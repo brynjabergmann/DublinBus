{
 "cells": [
  {
   "cell_type": "markdown",
   "metadata": {},
   "source": [
    "# Simple notebook to read json file and store information as a CSV"
   ]
  },
  {
   "cell_type": "code",
   "execution_count": 84,
   "metadata": {},
   "outputs": [],
   "source": [
    "import json\n",
    "import pandas as pd\n",
    "import numpy as np"
   ]
  },
  {
   "cell_type": "code",
   "execution_count": 85,
   "metadata": {},
   "outputs": [],
   "source": [
    "def loadjson(file):\n",
    "    \"\"\"\n",
    "    A simple function to load a json file as an object\n",
    "    \n",
    "    parameter: file\n",
    "    \"\"\"\n",
    "    return json.load(file)"
   ]
  },
  {
   "cell_type": "code",
   "execution_count": 86,
   "metadata": {},
   "outputs": [],
   "source": [
    "# Loading bus stop information json file as an object\n",
    "with open('busstopinformation.json') as file:\n",
    "    data = loadjson(file)"
   ]
  },
  {
   "cell_type": "code",
   "execution_count": 87,
   "metadata": {},
   "outputs": [],
   "source": [
    "# Creating arrays to store the stop number and the routes served by this stop number\n",
    "stopid = []\n",
    "routes = []\n",
    "for row in data['results']:\n",
    "    stopid.append(row['stopid'])\n",
    "    routes.append(row['operators'][0]['routes'])"
   ]
  },
  {
   "cell_type": "code",
   "execution_count": 88,
   "metadata": {},
   "outputs": [],
   "source": [
    "# Iterating through the arrays to allow every line_id to have its own\n",
    "# stop_number value\n",
    "stop_number = []\n",
    "line_id = []\n",
    "for i in range(4680):\n",
    "    for j in range(len(routes[i])):\n",
    "        stop_number.append(stopid[i])\n",
    "        line_id.append(routes[i][j])"
   ]
  },
  {
   "cell_type": "code",
   "execution_count": 89,
   "metadata": {},
   "outputs": [],
   "source": [
    "# Creating 2d numpy array as a simple way to store the stop_number and line_id\n",
    "# to be loaded into pandas dataframe\n",
    "numpy_array_for_dataframe = np.array([stop_number, line_id])"
   ]
  },
  {
   "cell_type": "code",
   "execution_count": 90,
   "metadata": {},
   "outputs": [],
   "source": [
    "# Creating dataframe from numpy array\n",
    "df = pd.DataFrame(numpy_array_for_dataframe)"
   ]
  },
  {
   "cell_type": "code",
   "execution_count": 91,
   "metadata": {},
   "outputs": [],
   "source": [
    "# Transposing the dataframe due to shape of numpy arrays I used\n",
    "df_transposed = df.T"
   ]
  },
  {
   "cell_type": "code",
   "execution_count": 92,
   "metadata": {},
   "outputs": [],
   "source": [
    "# Writing df_transposed to csv\n",
    "df_transposed.to_csv('stop_id_route_id_table.csv', index=False, header=None)"
   ]
  },
  {
   "cell_type": "code",
   "execution_count": null,
   "metadata": {},
   "outputs": [],
   "source": []
  }
 ],
 "metadata": {
  "kernelspec": {
   "display_name": "Python 3",
   "language": "python",
   "name": "python3"
  },
  "language_info": {
   "codemirror_mode": {
    "name": "ipython",
    "version": 3
   },
   "file_extension": ".py",
   "mimetype": "text/x-python",
   "name": "python",
   "nbconvert_exporter": "python",
   "pygments_lexer": "ipython3",
   "version": "3.6.5"
  }
 },
 "nbformat": 4,
 "nbformat_minor": 2
}
